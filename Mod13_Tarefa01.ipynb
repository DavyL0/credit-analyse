{
  "cells": [
    {
      "cell_type": "markdown",
      "metadata": {
        "id": "view-in-github",
        "colab_type": "text"
      },
      "source": [
        "<a href=\"https://colab.research.google.com/github/DavyL0/credit-analyse/blob/main/Mod13_Tarefa01.ipynb\" target=\"_parent\"><img src=\"https://colab.research.google.com/assets/colab-badge.svg\" alt=\"Open In Colab\"/></a>"
      ]
    },
    {
      "cell_type": "markdown",
      "metadata": {
        "id": "BlTGeSPXCudG"
      },
      "source": [
        "# EBAC - Regressão II - regressão múltipla\n",
        "\n",
        "## Tarefa I"
      ]
    },
    {
      "cell_type": "markdown",
      "metadata": {
        "id": "G0kaMsN2CudH"
      },
      "source": [
        "#### Previsão de renda\n",
        "\n",
        "Vamos trabalhar com a base 'previsao_de_renda.csv', que é a base do seu próximo projeto. Vamos usar os recursos que vimos até aqui nesta base.\n",
        "\n",
        "|variavel|descrição|\n",
        "|-|-|\n",
        "|data_ref                | Data de referência de coleta das variáveis |\n",
        "|index                   | Código de identificação do cliente|\n",
        "|sexo                    | Sexo do cliente|\n",
        "|posse_de_veiculo        | Indica se o cliente possui veículo|\n",
        "|posse_de_imovel         | Indica se o cliente possui imóvel|\n",
        "|qtd_filhos              | Quantidade de filhos do cliente|\n",
        "|tipo_renda              | Tipo de renda do cliente|\n",
        "|educacao                | Grau de instrução do cliente|\n",
        "|estado_civil            | Estado civil do cliente|\n",
        "|tipo_residencia         | Tipo de residência do cliente (própria, alugada etc)|\n",
        "|idade                   | Idade do cliente|\n",
        "|tempo_emprego           | Tempo no emprego atual|\n",
        "|qt_pessoas_residencia   | Quantidade de pessoas que moram na residência|\n",
        "|renda                   | Renda em reais|"
      ]
    },
    {
      "cell_type": "code",
      "execution_count": 12,
      "metadata": {
        "id": "iL2rCz_kCudH"
      },
      "outputs": [],
      "source": [
        "import pandas as pd\n",
        "import numpy as np\n",
        "import statsmodels.formula.api as smf\n",
        "import seaborn as sns\n",
        "import matplotlib.pyplot as plt\n",
        "import patsy\n",
        "\n",
        "import statsmodels.formula.api as smf\n",
        "import statsmodels.api as sm\n",
        "import patsy"
      ]
    },
    {
      "cell_type": "code",
      "execution_count": 2,
      "metadata": {
        "id": "QnjEVZxsCudH"
      },
      "outputs": [],
      "source": [
        "df = pd.read_csv('previsao_de_renda.csv')"
      ]
    },
    {
      "cell_type": "code",
      "execution_count": 3,
      "metadata": {
        "colab": {
          "base_uri": "https://localhost:8080/"
        },
        "id": "hhd1rJrYCudH",
        "outputId": "701038cc-6907-4788-c7d6-49f499610ab7"
      },
      "outputs": [
        {
          "output_type": "stream",
          "name": "stdout",
          "text": [
            "<class 'pandas.core.frame.DataFrame'>\n",
            "RangeIndex: 15000 entries, 0 to 14999\n",
            "Data columns (total 15 columns):\n",
            " #   Column                 Non-Null Count  Dtype  \n",
            "---  ------                 --------------  -----  \n",
            " 0   Unnamed: 0             15000 non-null  int64  \n",
            " 1   data_ref               15000 non-null  object \n",
            " 2   id_cliente             15000 non-null  int64  \n",
            " 3   sexo                   15000 non-null  object \n",
            " 4   posse_de_veiculo       15000 non-null  bool   \n",
            " 5   posse_de_imovel        15000 non-null  bool   \n",
            " 6   qtd_filhos             15000 non-null  int64  \n",
            " 7   tipo_renda             15000 non-null  object \n",
            " 8   educacao               15000 non-null  object \n",
            " 9   estado_civil           15000 non-null  object \n",
            " 10  tipo_residencia        15000 non-null  object \n",
            " 11  idade                  15000 non-null  int64  \n",
            " 12  tempo_emprego          12427 non-null  float64\n",
            " 13  qt_pessoas_residencia  15000 non-null  float64\n",
            " 14  renda                  15000 non-null  float64\n",
            "dtypes: bool(2), float64(3), int64(4), object(6)\n",
            "memory usage: 1.5+ MB\n"
          ]
        }
      ],
      "source": [
        "df.info()"
      ]
    },
    {
      "cell_type": "markdown",
      "metadata": {
        "id": "1070Q_LuCudI"
      },
      "source": [
        "1. Ajuste um modelo para prever log(renda) considerando todas as covariáveis disponíveis.\n",
        "    - Utilizando os recursos do Patsy, coloque as variáveis qualitativas como *dummies*.\n",
        "    - Mantenha sempre a categoria mais frequente como casela de referência\n",
        "    - Avalie os parâmetros e veja se parecem fazer sentido prático.  \n",
        "\n",
        "\n",
        "2. Remova a variável menos significante e analise:\n",
        "    - Observe os indicadores que vimos, e avalie se o modelo melhorou ou piorou na sua opinião.\n",
        "    - Observe os parâmetros e veja se algum se alterou muito.  \n",
        "\n",
        "\n",
        "3. Siga removendo as variáveis menos significantes, sempre que o *p-value* for menor que 5%. Compare o modelo final com o inicial. Observe os indicadores e conclua se o modelo parece melhor.\n",
        "    "
      ]
    },
    {
      "cell_type": "code",
      "execution_count": 4,
      "metadata": {
        "colab": {
          "base_uri": "https://localhost:8080/",
          "height": 468
        },
        "id": "iFCTD7hqCudI",
        "outputId": "feb938a7-0702-447e-dd49-bd6f47c16930"
      },
      "outputs": [
        {
          "output_type": "execute_result",
          "data": {
            "text/plain": [
              "<Axes: xlabel='tipo_residencia', ylabel='tempo_emprego'>"
            ]
          },
          "metadata": {},
          "execution_count": 4
        },
        {
          "output_type": "display_data",
          "data": {
            "text/plain": [
              "<Figure size 640x480 with 1 Axes>"
            ],
            "image/png": "[encoded data removed]"
          },
          "metadata": {}
        }
      ],
      "source": [
        "sns.pointplot(y = 'tempo_emprego', x = 'tipo_residencia', data = df)"
      ]
    },
    {
      "cell_type": "code",
      "source": [
        "y, x = patsy.dmatrices('renda ~ C(tipo_residencia)', data = df)\n",
        "x"
      ],
      "metadata": {
        "colab": {
          "base_uri": "https://localhost:8080/"
        },
        "id": "-NQhk66dRZtV",
        "outputId": "2172da64-9b54-45e9-f665-eaabe3f43b24"
      },
      "execution_count": 5,
      "outputs": [
        {
          "output_type": "execute_result",
          "data": {
            "text/plain": [
              "DesignMatrix with shape (15000, 6)\n",
              "  Columns:\n",
              "    ['Intercept',\n",
              "     'C(tipo_residencia)[T.Casa]',\n",
              "     'C(tipo_residencia)[T.Com os pais]',\n",
              "     'C(tipo_residencia)[T.Comunitário]',\n",
              "     'C(tipo_residencia)[T.Estúdio]',\n",
              "     'C(tipo_residencia)[T.Governamental]']\n",
              "  Terms:\n",
              "    'Intercept' (column 0), 'C(tipo_residencia)' (columns 1:6)\n",
              "  (to view full data, use np.asarray(this_obj))"
            ]
          },
          "metadata": {},
          "execution_count": 5
        }
      ]
    },
    {
      "cell_type": "code",
      "source": [
        "data = pd.DataFrame({'tipo_residencia': [1, 2, 3, 5, 4]})\n",
        "data"
      ],
      "metadata": {
        "colab": {
          "base_uri": "https://localhost:8080/",
          "height": 206
        },
        "id": "guMhAuHeTSMD",
        "outputId": "f58bae1d-d21b-412d-9b8f-84aa2966d138"
      },
      "execution_count": 6,
      "outputs": [
        {
          "output_type": "execute_result",
          "data": {
            "text/plain": [
              "   tipo_residencia\n",
              "0                1\n",
              "1                2\n",
              "2                3\n",
              "3                5\n",
              "4                4"
            ],
            "text/html": [
              "\n",
              "  <div id=\"df-18354f83-e3ab-4f98-bd71-147478c183a1\" class=\"colab-df-container\">\n",
              "    <div>\n",
              "<style scoped>\n",
              "    .dataframe tbody tr th:only-of-type {\n",
              "        vertical-align: middle;\n",
              "    }\n",
              "\n",
              "    .dataframe tbody tr th {\n",
              "        vertical-align: top;\n",
              "    }\n",
              "\n",
              "    .dataframe thead th {\n",
              "        text-align: right;\n",
              "    }\n",
              "</style>\n",
              "<table border=\"1\" class=\"dataframe\">\n",
              "  <thead>\n",
              "    <tr style=\"text-align: right;\">\n",
              "      <th></th>\n",
              "      <th>tipo_residencia</th>\n",
              "    </tr>\n",
              "  </thead>\n",
              "  <tbody>\n",
              "    <tr>\n",
              "      <th>0</th>\n",
              "      <td>1</td>\n",
              "    </tr>\n",
              "    <tr>\n",
              "      <th>1</th>\n",
              "      <td>2</td>\n",
              "    </tr>\n",
              "    <tr>\n",
              "      <th>2</th>\n",
              "      <td>3</td>\n",
              "    </tr>\n",
              "    <tr>\n",
              "      <th>3</th>\n",
              "      <td>5</td>\n",
              "    </tr>\n",
              "    <tr>\n",
              "      <th>4</th>\n",
              "      <td>4</td>\n",
              "    </tr>\n",
              "  </tbody>\n",
              "</table>\n",
              "</div>\n",
              "    <div class=\"colab-df-buttons\">\n",
              "\n",
              "  <div class=\"colab-df-container\">\n",
              "    <button class=\"colab-df-convert\" onclick=\"convertToInteractive('df-18354f83-e3ab-4f98-bd71-147478c183a1')\"\n",
              "            title=\"Convert this dataframe to an interactive table.\"\n",
              "            style=\"display:none;\">\n",
              "\n",
              "  <svg xmlns=\"http://www.w3.org/2000/svg\" height=\"24px\" viewBox=\"0 -960 960 960\">\n",
              "    <path d=\"M120-120v-720h720v720H120Zm60-500h600v-160H180v160Zm220 220h160v-160H400v160Zm0 220h160v-160H400v160ZM180-400h160v-160H180v160Zm440 0h160v-160H620v160ZM180-180h160v-160H180v160Zm440 0h160v-160H620v160Z\"/>\n",
              "  </svg>\n",
              "    </button>\n",
              "\n",
              "  <style>\n",
              "    .colab-df-container {\n",
              "      display:flex;\n",
              "      gap: 12px;\n",
              "    }\n",
              "\n",
              "    .colab-df-convert {\n",
              "      background-color: #E8F0FE;\n",
              "      border: none;\n",
              "      border-radius: 50%;\n",
              "      cursor: pointer;\n",
              "      display: none;\n",
              "      fill: #1967D2;\n",
              "      height: 32px;\n",
              "      padding: 0 0 0 0;\n",
              "      width: 32px;\n",
              "    }\n",
              "\n",
              "    .colab-df-convert:hover {\n",
              "      background-color: #E2EBFA;\n",
              "      box-shadow: 0px 1px 2px rgba(60, 64, 67, 0.3), 0px 1px 3px 1px rgba(60, 64, 67, 0.15);\n",
              "      fill: #174EA6;\n",
              "    }\n",
              "\n",
              "    .colab-df-buttons div {\n",
              "      margin-bottom: 4px;\n",
              "    }\n",
              "\n",
              "    [theme=dark] .colab-df-convert {\n",
              "      background-color: #3B4455;\n",
              "      fill: #D2E3FC;\n",
              "    }\n",
              "\n",
              "    [theme=dark] .colab-df-convert:hover {\n",
              "      background-color: #434B5C;\n",
              "      box-shadow: 0px 1px 3px 1px rgba(0, 0, 0, 0.15);\n",
              "      filter: drop-shadow(0px 1px 2px rgba(0, 0, 0, 0.3));\n",
              "      fill: #FFFFFF;\n",
              "    }\n",
              "  </style>\n",
              "\n",
              "    <script>\n",
              "      const buttonEl =\n",
              "        document.querySelector('#df-18354f83-e3ab-4f98-bd71-147478c183a1 button.colab-df-convert');\n",
              "      buttonEl.style.display =\n",
              "        google.colab.kernel.accessAllowed ? 'block' : 'none';\n",
              "\n",
              "      async function convertToInteractive(key) {\n",
              "        const element = document.querySelector('#df-18354f83-e3ab-4f98-bd71-147478c183a1');\n",
              "        const dataTable =\n",
              "          await google.colab.kernel.invokeFunction('convertToInteractive',\n",
              "                                                    [key], {});\n",
              "        if (!dataTable) return;\n",
              "\n",
              "        const docLinkHtml = 'Like what you see? Visit the ' +\n",
              "          '<a target=\"_blank\" href=https://colab.research.google.com/notebooks/data_table.ipynb>data table notebook</a>'\n",
              "          + ' to learn more about interactive tables.';\n",
              "        element.innerHTML = '';\n",
              "        dataTable['output_type'] = 'display_data';\n",
              "        await google.colab.output.renderOutput(dataTable, element);\n",
              "        const docLink = document.createElement('div');\n",
              "        docLink.innerHTML = docLinkHtml;\n",
              "        element.appendChild(docLink);\n",
              "      }\n",
              "    </script>\n",
              "  </div>\n",
              "\n",
              "\n",
              "<div id=\"df-931cb72d-97b6-46ff-b3f9-17cccbc6cc8d\">\n",
              "  <button class=\"colab-df-quickchart\" onclick=\"quickchart('df-931cb72d-97b6-46ff-b3f9-17cccbc6cc8d')\"\n",
              "            title=\"Suggest charts\"\n",
              "            style=\"display:none;\">\n",
              "\n",
              "<svg xmlns=\"http://www.w3.org/2000/svg\" height=\"24px\"viewBox=\"0 0 24 24\"\n",
              "     width=\"24px\">\n",
              "    <g>\n",
              "        <path d=\"M19 3H5c-1.1 0-2 .9-2 2v14c0 1.1.9 2 2 2h14c1.1 0 2-.9 2-2V5c0-1.1-.9-2-2-2zM9 17H7v-7h2v7zm4 0h-2V7h2v10zm4 0h-2v-4h2v4z\"/>\n",
              "    </g>\n",
              "</svg>\n",
              "  </button>\n",
              "\n",
              "<style>\n",
              "  .colab-df-quickchart {\n",
              "      --bg-color: #E8F0FE;\n",
              "      --fill-color: #1967D2;\n",
              "      --hover-bg-color: #E2EBFA;\n",
              "      --hover-fill-color: #174EA6;\n",
              "      --disabled-fill-color: #AAA;\n",
              "      --disabled-bg-color: #DDD;\n",
              "  }\n",
              "\n",
              "  [theme=dark] .colab-df-quickchart {\n",
              "      --bg-color: #3B4455;\n",
              "      --fill-color: #D2E3FC;\n",
              "      --hover-bg-color: #434B5C;\n",
              "      --hover-fill-color: #FFFFFF;\n",
              "      --disabled-bg-color: #3B4455;\n",
              "      --disabled-fill-color: #666;\n",
              "  }\n",
              "\n",
              "  .colab-df-quickchart {\n",
              "    background-color: var(--bg-color);\n",
              "    border: none;\n",
              "    border-radius: 50%;\n",
              "    cursor: pointer;\n",
              "    display: none;\n",
              "    fill: var(--fill-color);\n",
              "    height: 32px;\n",
              "    padding: 0;\n",
              "    width: 32px;\n",
              "  }\n",
              "\n",
              "  .colab-df-quickchart:hover {\n",
              "    background-color: var(--hover-bg-color);\n",
              "    box-shadow: 0 1px 2px rgba(60, 64, 67, 0.3), 0 1px 3px 1px rgba(60, 64, 67, 0.15);\n",
              "    fill: var(--button-hover-fill-color);\n",
              "  }\n",
              "\n",
              "  .colab-df-quickchart-complete:disabled,\n",
              "  .colab-df-quickchart-complete:disabled:hover {\n",
              "    background-color: var(--disabled-bg-color);\n",
              "    fill: var(--disabled-fill-color);\n",
              "    box-shadow: none;\n",
              "  }\n",
              "\n",
              "  .colab-df-spinner {\n",
              "    border: 2px solid var(--fill-color);\n",
              "    border-color: transparent;\n",
              "    border-bottom-color: var(--fill-color);\n",
              "    animation:\n",
              "      spin 1s steps(1) infinite;\n",
              "  }\n",
              "\n",
              "  @keyframes spin {\n",
              "    0% {\n",
              "      border-color: transparent;\n",
              "      border-bottom-color: var(--fill-color);\n",
              "      border-left-color: var(--fill-color);\n",
              "    }\n",
              "    20% {\n",
              "      border-color: transparent;\n",
              "      border-left-color: var(--fill-color);\n",
              "      border-top-color: var(--fill-color);\n",
              "    }\n",
              "    30% {\n",
              "      border-color: transparent;\n",
              "      border-left-color: var(--fill-color);\n",
              "      border-top-color: var(--fill-color);\n",
              "      border-right-color: var(--fill-color);\n",
              "    }\n",
              "    40% {\n",
              "      border-color: transparent;\n",
              "      border-right-color: var(--fill-color);\n",
              "      border-top-color: var(--fill-color);\n",
              "    }\n",
              "    60% {\n",
              "      border-color: transparent;\n",
              "      border-right-color: var(--fill-color);\n",
              "    }\n",
              "    80% {\n",
              "      border-color: transparent;\n",
              "      border-right-color: var(--fill-color);\n",
              "      border-bottom-color: var(--fill-color);\n",
              "    }\n",
              "    90% {\n",
              "      border-color: transparent;\n",
              "      border-bottom-color: var(--fill-color);\n",
              "    }\n",
              "  }\n",
              "</style>\n",
              "\n",
              "  <script>\n",
              "    async function quickchart(key) {\n",
              "      const quickchartButtonEl =\n",
              "        document.querySelector('#' + key + ' button');\n",
              "      quickchartButtonEl.disabled = true;  // To prevent multiple clicks.\n",
              "      quickchartButtonEl.classList.add('colab-df-spinner');\n",
              "      try {\n",
              "        const charts = await google.colab.kernel.invokeFunction(\n",
              "            'suggestCharts', [key], {});\n",
              "      } catch (error) {\n",
              "        console.error('Error during call to suggestCharts:', error);\n",
              "      }\n",
              "      quickchartButtonEl.classList.remove('colab-df-spinner');\n",
              "      quickchartButtonEl.classList.add('colab-df-quickchart-complete');\n",
              "    }\n",
              "    (() => {\n",
              "      let quickchartButtonEl =\n",
              "        document.querySelector('#df-931cb72d-97b6-46ff-b3f9-17cccbc6cc8d button');\n",
              "      quickchartButtonEl.style.display =\n",
              "        google.colab.kernel.accessAllowed ? 'block' : 'none';\n",
              "    })();\n",
              "  </script>\n",
              "</div>\n",
              "\n",
              "  <div id=\"id_3a2e6cc3-97f4-4d1a-8351-426dfc774b65\">\n",
              "    <style>\n",
              "      .colab-df-generate {\n",
              "        background-color: #E8F0FE;\n",
              "        border: none;\n",
              "        border-radius: 50%;\n",
              "        cursor: pointer;\n",
              "        display: none;\n",
              "        fill: #1967D2;\n",
              "        height: 32px;\n",
              "        padding: 0 0 0 0;\n",
              "        width: 32px;\n",
              "      }\n",
              "\n",
              "      .colab-df-generate:hover {\n",
              "        background-color: #E2EBFA;\n",
              "        box-shadow: 0px 1px 2px rgba(60, 64, 67, 0.3), 0px 1px 3px 1px rgba(60, 64, 67, 0.15);\n",
              "        fill: #174EA6;\n",
              "      }\n",
              "\n",
              "      [theme=dark] .colab-df-generate {\n",
              "        background-color: #3B4455;\n",
              "        fill: #D2E3FC;\n",
              "      }\n",
              "\n",
              "      [theme=dark] .colab-df-generate:hover {\n",
              "        background-color: #434B5C;\n",
              "        box-shadow: 0px 1px 3px 1px rgba(0, 0, 0, 0.15);\n",
              "        filter: drop-shadow(0px 1px 2px rgba(0, 0, 0, 0.3));\n",
              "        fill: #FFFFFF;\n",
              "      }\n",
              "    </style>\n",
              "    <button class=\"colab-df-generate\" onclick=\"generateWithVariable('data')\"\n",
              "            title=\"Generate code using this dataframe.\"\n",
              "            style=\"display:none;\">\n",
              "\n",
              "  <svg xmlns=\"http://www.w3.org/2000/svg\" height=\"24px\"viewBox=\"0 0 24 24\"\n",
              "       width=\"24px\">\n",
              "    <path d=\"M7,19H8.4L18.45,9,17,7.55,7,17.6ZM5,21V16.75L18.45,3.32a2,2,0,0,1,2.83,0l1.4,1.43a1.91,1.91,0,0,1,.58,1.4,1.91,1.91,0,0,1-.58,1.4L9.25,21ZM18.45,9,17,7.55Zm-12,3A5.31,5.31,0,0,0,4.9,8.1,5.31,5.31,0,0,0,1,6.5,5.31,5.31,0,0,0,4.9,4.9,5.31,5.31,0,0,0,6.5,1,5.31,5.31,0,0,0,8.1,4.9,5.31,5.31,0,0,0,12,6.5,5.46,5.46,0,0,0,6.5,12Z\"/>\n",
              "  </svg>\n",
              "    </button>\n",
              "    <script>\n",
              "      (() => {\n",
              "      const buttonEl =\n",
              "        document.querySelector('#id_3a2e6cc3-97f4-4d1a-8351-426dfc774b65 button.colab-df-generate');\n",
              "      buttonEl.style.display =\n",
              "        google.colab.kernel.accessAllowed ? 'block' : 'none';\n",
              "\n",
              "      buttonEl.onclick = () => {\n",
              "        google.colab.notebook.generateWithVariable('data');\n",
              "      }\n",
              "      })();\n",
              "    </script>\n",
              "  </div>\n",
              "\n",
              "    </div>\n",
              "  </div>\n"
            ],
            "application/vnd.google.colaboratory.intrinsic+json": {
              "type": "dataframe",
              "variable_name": "data",
              "summary": "{\n  \"name\": \"data\",\n  \"rows\": 5,\n  \"fields\": [\n    {\n      \"column\": \"tipo_residencia\",\n      \"properties\": {\n        \"dtype\": \"number\",\n        \"std\": 1,\n        \"min\": 1,\n        \"max\": 5,\n        \"num_unique_values\": 5,\n        \"samples\": [\n          2,\n          4,\n          3\n        ],\n        \"semantic_type\": \"\",\n        \"description\": \"\"\n      }\n    }\n  ]\n}"
            }
          },
          "metadata": {},
          "execution_count": 6
        }
      ]
    },
    {
      "cell_type": "code",
      "source": [
        "from patsy import dmatrix\n",
        "dmatrix(\"C(tipo_residencia)\", data)"
      ],
      "metadata": {
        "colab": {
          "base_uri": "https://localhost:8080/"
        },
        "id": "V6GMasp-UZVU",
        "outputId": "6440a33c-4e51-479d-87f9-698572f8570c"
      },
      "execution_count": 7,
      "outputs": [
        {
          "output_type": "execute_result",
          "data": {
            "text/plain": [
              "DesignMatrix with shape (5, 5)\n",
              "  Columns:\n",
              "    ['Intercept',\n",
              "     'C(tipo_residencia)[T.2]',\n",
              "     'C(tipo_residencia)[T.3]',\n",
              "     'C(tipo_residencia)[T.4]',\n",
              "     'C(tipo_residencia)[T.5]']\n",
              "  Terms:\n",
              "    'Intercept' (column 0), 'C(tipo_residencia)' (columns 1:5)\n",
              "  (to view full data, use np.asarray(this_obj))"
            ]
          },
          "metadata": {},
          "execution_count": 7
        }
      ]
    },
    {
      "cell_type": "code",
      "source": [
        "y, x = patsy.dmatrices('tempo_emprego ~ C(tipo_residencia)', data = df)\n",
        "x"
      ],
      "metadata": {
        "colab": {
          "base_uri": "https://localhost:8080/"
        },
        "id": "CYxBBViHW-fo",
        "outputId": "027cce4f-6769-42c6-f829-dc8ddfda19e7"
      },
      "execution_count": 10,
      "outputs": [
        {
          "output_type": "execute_result",
          "data": {
            "text/plain": [
              "DesignMatrix with shape (12427, 6)\n",
              "  Columns:\n",
              "    ['Intercept',\n",
              "     'C(tipo_residencia)[T.Casa]',\n",
              "     'C(tipo_residencia)[T.Com os pais]',\n",
              "     'C(tipo_residencia)[T.Comunitário]',\n",
              "     'C(tipo_residencia)[T.Estúdio]',\n",
              "     'C(tipo_residencia)[T.Governamental]']\n",
              "  Terms:\n",
              "    'Intercept' (column 0), 'C(tipo_residencia)' (columns 1:6)\n",
              "  (to view full data, use np.asarray(this_obj))"
            ]
          },
          "metadata": {},
          "execution_count": 10
        }
      ]
    },
    {
      "cell_type": "code",
      "source": [
        "sm.OLS(y, x).fit().summary()"
      ],
      "metadata": {
        "colab": {
          "base_uri": "https://localhost:8080/",
          "height": 537
        },
        "id": "7Pxh3vLeXg6B",
        "outputId": "0d1285fa-ad19-4cc0-c247-3acec9c09822"
      },
      "execution_count": 17,
      "outputs": [
        {
          "output_type": "execute_result",
          "data": {
            "text/plain": [
              "<class 'statsmodels.iolib.summary.Summary'>\n",
              "\"\"\"\n",
              "                            OLS Regression Results                            \n",
              "==============================================================================\n",
              "Dep. Variable:          tempo_emprego   R-squared:                       0.008\n",
              "Model:                            OLS   Adj. R-squared:                  0.008\n",
              "Method:                 Least Squares   F-statistic:                     20.31\n",
              "Date:                Mon, 28 Oct 2024   Prob (F-statistic):           2.99e-20\n",
              "Time:                        13:52:20   Log-Likelihood:                -41240.\n",
              "No. Observations:               12427   AIC:                         8.249e+04\n",
              "Df Residuals:                   12421   BIC:                         8.254e+04\n",
              "Df Model:                           5                                         \n",
              "Covariance Type:            nonrobust                                         \n",
              "=======================================================================================================\n",
              "                                          coef    std err          t      P>|t|      [0.025      0.975]\n",
              "-------------------------------------------------------------------------------------------------------\n",
              "Intercept                               5.2643      0.494     10.652      0.000       4.296       6.233\n",
              "C(tipo_residencia)[T.Casa]              2.6055      0.498      5.229      0.000       1.629       3.582\n",
              "C(tipo_residencia)[T.Com os pais]       0.5106      0.557      0.916      0.360      -0.582       1.603\n",
              "C(tipo_residencia)[T.Comunitário]      -0.0026      0.971     -0.003      0.998      -1.906       1.900\n",
              "C(tipo_residencia)[T.Estúdio]           3.8996      0.917      4.254      0.000       2.103       5.696\n",
              "C(tipo_residencia)[T.Governamental]     2.9688      0.607      4.891      0.000       1.779       4.158\n",
              "==============================================================================\n",
              "Omnibus:                     3989.219   Durbin-Watson:                   1.999\n",
              "Prob(Omnibus):                  0.000   Jarque-Bera (JB):            12151.454\n",
              "Skew:                           1.675   Prob(JB):                         0.00\n",
              "Kurtosis:                       6.500   Cond. No.                         30.1\n",
              "==============================================================================\n",
              "\n",
              "Notes:\n",
              "[1] Standard Errors assume that the covariance matrix of the errors is correctly specified.\n",
              "\"\"\""
            ],
            "text/html": [
              "<table class=\"simpletable\">\n",
              "<caption>OLS Regression Results</caption>\n",
              "<tr>\n",
              "  <th>Dep. Variable:</th>      <td>tempo_emprego</td>  <th>  R-squared:         </th> <td>   0.008</td> \n",
              "</tr>\n",
              "<tr>\n",
              "  <th>Model:</th>                   <td>OLS</td>       <th>  Adj. R-squared:    </th> <td>   0.008</td> \n",
              "</tr>\n",
              "<tr>\n",
              "  <th>Method:</th>             <td>Least Squares</td>  <th>  F-statistic:       </th> <td>   20.31</td> \n",
              "</tr>\n",
              "<tr>\n",
              "  <th>Date:</th>             <td>Mon, 28 Oct 2024</td> <th>  Prob (F-statistic):</th> <td>2.99e-20</td> \n",
              "</tr>\n",
              "<tr>\n",
              "  <th>Time:</th>                 <td>13:52:20</td>     <th>  Log-Likelihood:    </th> <td> -41240.</td> \n",
              "</tr>\n",
              "<tr>\n",
              "  <th>No. Observations:</th>      <td> 12427</td>      <th>  AIC:               </th> <td>8.249e+04</td>\n",
              "</tr>\n",
              "<tr>\n",
              "  <th>Df Residuals:</th>          <td> 12421</td>      <th>  BIC:               </th> <td>8.254e+04</td>\n",
              "</tr>\n",
              "<tr>\n",
              "  <th>Df Model:</th>              <td>     5</td>      <th>                     </th>     <td> </td>    \n",
              "</tr>\n",
              "<tr>\n",
              "  <th>Covariance Type:</th>      <td>nonrobust</td>    <th>                     </th>     <td> </td>    \n",
              "</tr>\n",
              "</table>\n",
              "<table class=\"simpletable\">\n",
              "<tr>\n",
              "                   <td></td>                      <th>coef</th>     <th>std err</th>      <th>t</th>      <th>P>|t|</th>  <th>[0.025</th>    <th>0.975]</th>  \n",
              "</tr>\n",
              "<tr>\n",
              "  <th>Intercept</th>                           <td>    5.2643</td> <td>    0.494</td> <td>   10.652</td> <td> 0.000</td> <td>    4.296</td> <td>    6.233</td>\n",
              "</tr>\n",
              "<tr>\n",
              "  <th>C(tipo_residencia)[T.Casa]</th>          <td>    2.6055</td> <td>    0.498</td> <td>    5.229</td> <td> 0.000</td> <td>    1.629</td> <td>    3.582</td>\n",
              "</tr>\n",
              "<tr>\n",
              "  <th>C(tipo_residencia)[T.Com os pais]</th>   <td>    0.5106</td> <td>    0.557</td> <td>    0.916</td> <td> 0.360</td> <td>   -0.582</td> <td>    1.603</td>\n",
              "</tr>\n",
              "<tr>\n",
              "  <th>C(tipo_residencia)[T.Comunitário]</th>   <td>   -0.0026</td> <td>    0.971</td> <td>   -0.003</td> <td> 0.998</td> <td>   -1.906</td> <td>    1.900</td>\n",
              "</tr>\n",
              "<tr>\n",
              "  <th>C(tipo_residencia)[T.Estúdio]</th>       <td>    3.8996</td> <td>    0.917</td> <td>    4.254</td> <td> 0.000</td> <td>    2.103</td> <td>    5.696</td>\n",
              "</tr>\n",
              "<tr>\n",
              "  <th>C(tipo_residencia)[T.Governamental]</th> <td>    2.9688</td> <td>    0.607</td> <td>    4.891</td> <td> 0.000</td> <td>    1.779</td> <td>    4.158</td>\n",
              "</tr>\n",
              "</table>\n",
              "<table class=\"simpletable\">\n",
              "<tr>\n",
              "  <th>Omnibus:</th>       <td>3989.219</td> <th>  Durbin-Watson:     </th> <td>   1.999</td> \n",
              "</tr>\n",
              "<tr>\n",
              "  <th>Prob(Omnibus):</th>  <td> 0.000</td>  <th>  Jarque-Bera (JB):  </th> <td>12151.454</td>\n",
              "</tr>\n",
              "<tr>\n",
              "  <th>Skew:</th>           <td> 1.675</td>  <th>  Prob(JB):          </th> <td>    0.00</td> \n",
              "</tr>\n",
              "<tr>\n",
              "  <th>Kurtosis:</th>       <td> 6.500</td>  <th>  Cond. No.          </th> <td>    30.1</td> \n",
              "</tr>\n",
              "</table><br/><br/>Notes:<br/>[1] Standard Errors assume that the covariance matrix of the errors is correctly specified."
            ],
            "text/latex": "\\begin{center}\n\\begin{tabular}{lclc}\n\\toprule\n\\textbf{Dep. Variable:}                       &  tempo\\_emprego  & \\textbf{  R-squared:         } &     0.008   \\\\\n\\textbf{Model:}                               &       OLS        & \\textbf{  Adj. R-squared:    } &     0.008   \\\\\n\\textbf{Method:}                              &  Least Squares   & \\textbf{  F-statistic:       } &     20.31   \\\\\n\\textbf{Date:}                                & Mon, 28 Oct 2024 & \\textbf{  Prob (F-statistic):} &  2.99e-20   \\\\\n\\textbf{Time:}                                &     13:52:20     & \\textbf{  Log-Likelihood:    } &   -41240.   \\\\\n\\textbf{No. Observations:}                    &       12427      & \\textbf{  AIC:               } & 8.249e+04   \\\\\n\\textbf{Df Residuals:}                        &       12421      & \\textbf{  BIC:               } & 8.254e+04   \\\\\n\\textbf{Df Model:}                            &           5      & \\textbf{                     } &             \\\\\n\\textbf{Covariance Type:}                     &    nonrobust     & \\textbf{                     } &             \\\\\n\\bottomrule\n\\end{tabular}\n\\begin{tabular}{lcccccc}\n                                              & \\textbf{coef} & \\textbf{std err} & \\textbf{t} & \\textbf{P$> |$t$|$} & \\textbf{[0.025} & \\textbf{0.975]}  \\\\\n\\midrule\n\\textbf{Intercept}                            &       5.2643  &        0.494     &    10.652  &         0.000        &        4.296    &        6.233     \\\\\n\\textbf{C(tipo\\_residencia)[T.Casa]}          &       2.6055  &        0.498     &     5.229  &         0.000        &        1.629    &        3.582     \\\\\n\\textbf{C(tipo\\_residencia)[T.Com os pais]}   &       0.5106  &        0.557     &     0.916  &         0.360        &       -0.582    &        1.603     \\\\\n\\textbf{C(tipo\\_residencia)[T.Comunitário]}   &      -0.0026  &        0.971     &    -0.003  &         0.998        &       -1.906    &        1.900     \\\\\n\\textbf{C(tipo\\_residencia)[T.Estúdio]}       &       3.8996  &        0.917     &     4.254  &         0.000        &        2.103    &        5.696     \\\\\n\\textbf{C(tipo\\_residencia)[T.Governamental]} &       2.9688  &        0.607     &     4.891  &         0.000        &        1.779    &        4.158     \\\\\n\\bottomrule\n\\end{tabular}\n\\begin{tabular}{lclc}\n\\textbf{Omnibus:}       & 3989.219 & \\textbf{  Durbin-Watson:     } &     1.999  \\\\\n\\textbf{Prob(Omnibus):} &   0.000  & \\textbf{  Jarque-Bera (JB):  } & 12151.454  \\\\\n\\textbf{Skew:}          &   1.675  & \\textbf{  Prob(JB):          } &      0.00  \\\\\n\\textbf{Kurtosis:}      &   6.500  & \\textbf{  Cond. No.          } &      30.1  \\\\\n\\bottomrule\n\\end{tabular}\n%\\caption{OLS Regression Results}\n\\end{center}\n\nNotes: \\newline\n [1] Standard Errors assume that the covariance matrix of the errors is correctly specified."
          },
          "metadata": {},
          "execution_count": 17
        }
      ]
    },
    {
      "cell_type": "code",
      "source": [
        "reg = smf.ols('tempo_emprego ~ C(tipo_residencia, Treatment(2)) + np.log(renda)', data = df).fit()\n",
        "reg.summary()"
      ],
      "metadata": {
        "colab": {
          "base_uri": "https://localhost:8080/",
          "height": 558
        },
        "id": "yWPXUiL6YmpF",
        "outputId": "8a7e542d-b818-46f9-d036-b91009f7074c"
      },
      "execution_count": 21,
      "outputs": [
        {
          "output_type": "execute_result",
          "data": {
            "text/plain": [
              "<class 'statsmodels.iolib.summary.Summary'>\n",
              "\"\"\"\n",
              "                            OLS Regression Results                            \n",
              "==============================================================================\n",
              "Dep. Variable:          tempo_emprego   R-squared:                       0.177\n",
              "Model:                            OLS   Adj. R-squared:                  0.177\n",
              "Method:                 Least Squares   F-statistic:                     446.5\n",
              "Date:                Mon, 28 Oct 2024   Prob (F-statistic):               0.00\n",
              "Time:                        13:53:16   Log-Likelihood:                -40077.\n",
              "No. Observations:               12427   AIC:                         8.017e+04\n",
              "Df Residuals:                   12420   BIC:                         8.022e+04\n",
              "Df Model:                           6                                         \n",
              "Covariance Type:            nonrobust                                         \n",
              "=====================================================================================================================\n",
              "                                                        coef    std err          t      P>|t|      [0.025      0.975]\n",
              "---------------------------------------------------------------------------------------------------------------------\n",
              "Intercept                                           -19.3417      0.549    -35.211      0.000     -20.418     -18.265\n",
              "C(tipo_residencia, Treatment(2))[T.Aluguel]          -0.8865      0.508     -1.747      0.081      -1.881       0.108\n",
              "C(tipo_residencia, Treatment(2))[T.Casa]              1.7796      0.242      7.365      0.000       1.306       2.253\n",
              "C(tipo_residencia, Treatment(2))[T.Comunitário]      -0.1237      0.796     -0.155      0.877      -1.685       1.437\n",
              "C(tipo_residencia, Treatment(2))[T.Estúdio]           1.6042      0.742      2.162      0.031       0.150       3.059\n",
              "C(tipo_residencia, Treatment(2))[T.Governamental]     2.3116      0.397      5.816      0.000       1.533       3.091\n",
              "np.log(renda)                                         3.0746      0.061     50.564      0.000       2.955       3.194\n",
              "==============================================================================\n",
              "Omnibus:                     3278.628   Durbin-Watson:                   1.991\n",
              "Prob(Omnibus):                  0.000   Jarque-Bera (JB):             8592.051\n",
              "Skew:                           1.426   Prob(JB):                         0.00\n",
              "Kurtosis:                       5.909   Cond. No.                         131.\n",
              "==============================================================================\n",
              "\n",
              "Notes:\n",
              "[1] Standard Errors assume that the covariance matrix of the errors is correctly specified.\n",
              "\"\"\""
            ],
            "text/html": [
              "<table class=\"simpletable\">\n",
              "<caption>OLS Regression Results</caption>\n",
              "<tr>\n",
              "  <th>Dep. Variable:</th>      <td>tempo_emprego</td>  <th>  R-squared:         </th> <td>   0.177</td> \n",
              "</tr>\n",
              "<tr>\n",
              "  <th>Model:</th>                   <td>OLS</td>       <th>  Adj. R-squared:    </th> <td>   0.177</td> \n",
              "</tr>\n",
              "<tr>\n",
              "  <th>Method:</th>             <td>Least Squares</td>  <th>  F-statistic:       </th> <td>   446.5</td> \n",
              "</tr>\n",
              "<tr>\n",
              "  <th>Date:</th>             <td>Mon, 28 Oct 2024</td> <th>  Prob (F-statistic):</th>  <td>  0.00</td>  \n",
              "</tr>\n",
              "<tr>\n",
              "  <th>Time:</th>                 <td>13:53:16</td>     <th>  Log-Likelihood:    </th> <td> -40077.</td> \n",
              "</tr>\n",
              "<tr>\n",
              "  <th>No. Observations:</th>      <td> 12427</td>      <th>  AIC:               </th> <td>8.017e+04</td>\n",
              "</tr>\n",
              "<tr>\n",
              "  <th>Df Residuals:</th>          <td> 12420</td>      <th>  BIC:               </th> <td>8.022e+04</td>\n",
              "</tr>\n",
              "<tr>\n",
              "  <th>Df Model:</th>              <td>     6</td>      <th>                     </th>     <td> </td>    \n",
              "</tr>\n",
              "<tr>\n",
              "  <th>Covariance Type:</th>      <td>nonrobust</td>    <th>                     </th>     <td> </td>    \n",
              "</tr>\n",
              "</table>\n",
              "<table class=\"simpletable\">\n",
              "<tr>\n",
              "                          <td></td>                             <th>coef</th>     <th>std err</th>      <th>t</th>      <th>P>|t|</th>  <th>[0.025</th>    <th>0.975]</th>  \n",
              "</tr>\n",
              "<tr>\n",
              "  <th>Intercept</th>                                         <td>  -19.3417</td> <td>    0.549</td> <td>  -35.211</td> <td> 0.000</td> <td>  -20.418</td> <td>  -18.265</td>\n",
              "</tr>\n",
              "<tr>\n",
              "  <th>C(tipo_residencia, Treatment(2))[T.Aluguel]</th>       <td>   -0.8865</td> <td>    0.508</td> <td>   -1.747</td> <td> 0.081</td> <td>   -1.881</td> <td>    0.108</td>\n",
              "</tr>\n",
              "<tr>\n",
              "  <th>C(tipo_residencia, Treatment(2))[T.Casa]</th>          <td>    1.7796</td> <td>    0.242</td> <td>    7.365</td> <td> 0.000</td> <td>    1.306</td> <td>    2.253</td>\n",
              "</tr>\n",
              "<tr>\n",
              "  <th>C(tipo_residencia, Treatment(2))[T.Comunitário]</th>   <td>   -0.1237</td> <td>    0.796</td> <td>   -0.155</td> <td> 0.877</td> <td>   -1.685</td> <td>    1.437</td>\n",
              "</tr>\n",
              "<tr>\n",
              "  <th>C(tipo_residencia, Treatment(2))[T.Estúdio]</th>       <td>    1.6042</td> <td>    0.742</td> <td>    2.162</td> <td> 0.031</td> <td>    0.150</td> <td>    3.059</td>\n",
              "</tr>\n",
              "<tr>\n",
              "  <th>C(tipo_residencia, Treatment(2))[T.Governamental]</th> <td>    2.3116</td> <td>    0.397</td> <td>    5.816</td> <td> 0.000</td> <td>    1.533</td> <td>    3.091</td>\n",
              "</tr>\n",
              "<tr>\n",
              "  <th>np.log(renda)</th>                                     <td>    3.0746</td> <td>    0.061</td> <td>   50.564</td> <td> 0.000</td> <td>    2.955</td> <td>    3.194</td>\n",
              "</tr>\n",
              "</table>\n",
              "<table class=\"simpletable\">\n",
              "<tr>\n",
              "  <th>Omnibus:</th>       <td>3278.628</td> <th>  Durbin-Watson:     </th> <td>   1.991</td>\n",
              "</tr>\n",
              "<tr>\n",
              "  <th>Prob(Omnibus):</th>  <td> 0.000</td>  <th>  Jarque-Bera (JB):  </th> <td>8592.051</td>\n",
              "</tr>\n",
              "<tr>\n",
              "  <th>Skew:</th>           <td> 1.426</td>  <th>  Prob(JB):          </th> <td>    0.00</td>\n",
              "</tr>\n",
              "<tr>\n",
              "  <th>Kurtosis:</th>       <td> 5.909</td>  <th>  Cond. No.          </th> <td>    131.</td>\n",
              "</tr>\n",
              "</table><br/><br/>Notes:<br/>[1] Standard Errors assume that the covariance matrix of the errors is correctly specified."
            ],
            "text/latex": "\\begin{center}\n\\begin{tabular}{lclc}\n\\toprule\n\\textbf{Dep. Variable:}                                     &  tempo\\_emprego  & \\textbf{  R-squared:         } &     0.177   \\\\\n\\textbf{Model:}                                             &       OLS        & \\textbf{  Adj. R-squared:    } &     0.177   \\\\\n\\textbf{Method:}                                            &  Least Squares   & \\textbf{  F-statistic:       } &     446.5   \\\\\n\\textbf{Date:}                                              & Mon, 28 Oct 2024 & \\textbf{  Prob (F-statistic):} &     0.00    \\\\\n\\textbf{Time:}                                              &     13:53:16     & \\textbf{  Log-Likelihood:    } &   -40077.   \\\\\n\\textbf{No. Observations:}                                  &       12427      & \\textbf{  AIC:               } & 8.017e+04   \\\\\n\\textbf{Df Residuals:}                                      &       12420      & \\textbf{  BIC:               } & 8.022e+04   \\\\\n\\textbf{Df Model:}                                          &           6      & \\textbf{                     } &             \\\\\n\\textbf{Covariance Type:}                                   &    nonrobust     & \\textbf{                     } &             \\\\\n\\bottomrule\n\\end{tabular}\n\\begin{tabular}{lcccccc}\n                                                            & \\textbf{coef} & \\textbf{std err} & \\textbf{t} & \\textbf{P$> |$t$|$} & \\textbf{[0.025} & \\textbf{0.975]}  \\\\\n\\midrule\n\\textbf{Intercept}                                          &     -19.3417  &        0.549     &   -35.211  &         0.000        &      -20.418    &      -18.265     \\\\\n\\textbf{C(tipo\\_residencia, Treatment(2))[T.Aluguel]}       &      -0.8865  &        0.508     &    -1.747  &         0.081        &       -1.881    &        0.108     \\\\\n\\textbf{C(tipo\\_residencia, Treatment(2))[T.Casa]}          &       1.7796  &        0.242     &     7.365  &         0.000        &        1.306    &        2.253     \\\\\n\\textbf{C(tipo\\_residencia, Treatment(2))[T.Comunitário]}   &      -0.1237  &        0.796     &    -0.155  &         0.877        &       -1.685    &        1.437     \\\\\n\\textbf{C(tipo\\_residencia, Treatment(2))[T.Estúdio]}       &       1.6042  &        0.742     &     2.162  &         0.031        &        0.150    &        3.059     \\\\\n\\textbf{C(tipo\\_residencia, Treatment(2))[T.Governamental]} &       2.3116  &        0.397     &     5.816  &         0.000        &        1.533    &        3.091     \\\\\n\\textbf{np.log(renda)}                                      &       3.0746  &        0.061     &    50.564  &         0.000        &        2.955    &        3.194     \\\\\n\\bottomrule\n\\end{tabular}\n\\begin{tabular}{lclc}\n\\textbf{Omnibus:}       & 3278.628 & \\textbf{  Durbin-Watson:     } &    1.991  \\\\\n\\textbf{Prob(Omnibus):} &   0.000  & \\textbf{  Jarque-Bera (JB):  } & 8592.051  \\\\\n\\textbf{Skew:}          &   1.426  & \\textbf{  Prob(JB):          } &     0.00  \\\\\n\\textbf{Kurtosis:}      &   5.909  & \\textbf{  Cond. No.          } &     131.  \\\\\n\\bottomrule\n\\end{tabular}\n%\\caption{OLS Regression Results}\n\\end{center}\n\nNotes: \\newline\n [1] Standard Errors assume that the covariance matrix of the errors is correctly specified."
          },
          "metadata": {},
          "execution_count": 21
        }
      ]
    }
  ],
  "metadata": {
    "kernelspec": {
      "display_name": "Python 3",
      "language": "python",
      "name": "python3"
    },
    "language_info": {
      "codemirror_mode": {
        "name": "ipython",
        "version": 3
      },
      "file_extension": ".py",
      "mimetype": "text/x-python",
      "name": "python",
      "nbconvert_exporter": "python",
      "pygments_lexer": "ipython3",
      "version": "3.8.5"
    },
    "colab": {
      "provenance": [],
      "include_colab_link": true
    }
  },
  "nbformat": 4,
  "nbformat_minor": 0
}